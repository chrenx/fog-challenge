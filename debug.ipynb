{
 "cells": [
  {
   "cell_type": "code",
   "execution_count": 1,
   "metadata": {},
   "outputs": [],
   "source": [
    "%load_ext autoreload\n",
    "%autoreload 2"
   ]
  },
  {
   "cell_type": "code",
   "execution_count": null,
   "metadata": {},
   "outputs": [],
   "source": [
    "from runs.train.transformer_v2.2024_07_05_09:51:03.07.codes.transformer_v2"
   ]
  },
  {
   "cell_type": "markdown",
   "metadata": {},
   "source": [
    "# Count parameterts in model"
   ]
  },
  {
   "cell_type": "code",
   "execution_count": 2,
   "metadata": {},
   "outputs": [],
   "source": [
    "# Function to count the number of parameters\n",
    "def count_parameters(model):\n",
    "    total_params = sum(p.numel() for p in model.parameters())\n",
    "    trainable_params = sum(p.numel() for p in model.parameters() if p.requires_grad)\n",
    "    return total_params, trainable_params\n"
   ]
  },
  {
   "cell_type": "code",
   "execution_count": 4,
   "metadata": {},
   "outputs": [],
   "source": [
    "class DotDict(dict):\n",
    "    \"\"\"A dictionary with dot notation access to attributes.\"\"\"\n",
    "    def __getattr__(self, key):\n",
    "        try:\n",
    "            return self[key]\n",
    "        except KeyError:\n",
    "            raise AttributeError(f\"'DotDict' object has no attribute '{key}'\")\n",
    "\n",
    "    def __setattr__(self, key, value):\n",
    "        self[key] = value\n",
    "\n",
    "    def __delattr__(self, key):\n",
    "        try:\n",
    "            del self[key]\n",
    "        except KeyError:\n",
    "            raise AttributeError(f\"'DotDict' object has no attribute '{key}'\")\n",
    "        \n",
    "# Function to convert existing dictionary to DotDict\n",
    "def dict_to_dotdict(d):\n",
    "    if not isinstance(d, dict):\n",
    "        return d\n",
    "    return DotDict({k: dict_to_dotdict(v) if isinstance(v, dict) else v for k, v in d.items()})\n",
    "\n"
   ]
  },
  {
   "cell_type": "code",
   "execution_count": 6,
   "metadata": {},
   "outputs": [
    {
     "name": "stdout",
     "output_type": "stream",
     "text": [
      "TransformerBiLSTM Total parameters: 7486402\n",
      "TransformerBiLSTM Trainable parameters: 7486402\n",
      "Transformer Total parameters: 3379522\n",
      "Transformer Trainable parameters: 3379522\n"
     ]
    }
   ],
   "source": [
    "from models.transformer_bilstm_v2 import TransformerBiLSTM\n",
    "from models.transformer_v1 import Transformer\n",
    "opt = {\n",
    "    'block_size': 15552,\n",
    "    'block_stride': 972,\n",
    "    'patch_size': 18,\n",
    "    'max_grad_norm': 1.0,\n",
    "    'fog_model_input_dim': 54,\n",
    "    'fog_model_dim': 320,\n",
    "    'fog_model_num_heads': 8,\n",
    "    'fog_model_num_encoder_layers': 5,\n",
    "    'fog_model_num_lstm_layers': 2,\n",
    "    'fog_model_first_dropout': 0.1,\n",
    "    'fog_model_encoder_dropout': 0.1,\n",
    "    'fog_model_mha_dropout': 0.0,\n",
    "}\n",
    "\n",
    "opt = DotDict(opt)\n",
    "\n",
    "model = TransformerBiLSTM(opt)\n",
    "transformer_model = Transformer(opt)\n",
    "\n",
    "# Get the total and trainable parameters\n",
    "total_params, trainable_params = count_parameters(model)\n",
    "\n",
    "print(f\"TransformerBiLSTM Total parameters: {total_params}\")\n",
    "print(f\"TransformerBiLSTM Trainable parameters: {trainable_params}\")\n",
    "\n",
    "total_params, trainable_params = count_parameters(transformer_model)\n",
    "\n",
    "print(f\"Transformer Total parameters: {total_params}\")\n",
    "print(f\"Transformer Trainable parameters: {trainable_params}\")"
   ]
  },
  {
   "cell_type": "markdown",
   "metadata": {},
   "source": [
    "# Process Data"
   ]
  },
  {
   "cell_type": "code",
   "execution_count": 24,
   "metadata": {},
   "outputs": [
    {
     "name": "stdout",
     "output_type": "stream",
     "text": [
      "285\n",
      "dict_keys(['series_name', 'start_t_idx', 'end_t_idx', 'model_input', 'gt'])\n",
      "rectified_16_dataset_fog_release\n",
      "torch.Size([15552])\n",
      "tensor([2, 2, 2], dtype=torch.int8)\n"
     ]
    }
   ],
   "source": [
    "import joblib, random, torch\n",
    "\n",
    "random.seed(11)\n",
    "pickle_path = \"data/rectified_data/dataset_fog_release/val_dataset_fog_release.p\"\n",
    "\n",
    "all_data = joblib.load(pickle_path)\n",
    "\n",
    "print(len(all_data.keys()))\n",
    "print(all_data[200].keys())\n",
    "\n",
    "gt = all_data[200]['gt']\n",
    "print(all_data[200]['series_name'])\n",
    "print(gt.shape)\n",
    "print(gt[-3:])"
   ]
  },
  {
   "cell_type": "code",
   "execution_count": 4,
   "metadata": {},
   "outputs": [
    {
     "data": {
      "text/plain": [
       "(torch.Size([2, 6]),\n",
       " tensor([[1.7707, 2.4249, 0.1701, 0.8715, 2.5939, 1.6950],\n",
       "         [1.1421, 0.6567, 0.1020, 0.8278, 0.0357, 1.0962]]))"
      ]
     },
     "execution_count": 4,
     "metadata": {},
     "output_type": "execute_result"
    }
   ],
   "source": [
    "\n",
    "import torch\n",
    "bce = torch.nn.BCELoss(reduction='none')\n",
    "\n",
    "pred = torch.rand(2,6)\n",
    "mask = torch.tensor([[0, 0, 0, 0, 0, 0], [0, 1, 0, 1, 0, 1]]).float()\n",
    "\n",
    "loss = bce(pred, mask)\n",
    "loss.shape, loss\n"
   ]
  },
  {
   "cell_type": "markdown",
   "metadata": {},
   "source": [
    "# Overfit training example"
   ]
  },
  {
   "cell_type": "code",
   "execution_count": 38,
   "metadata": {},
   "outputs": [],
   "source": [
    "class DictToObj:\n",
    "    def __init__(self, dictionary):\n",
    "        self.__dict__.update(dictionary)\n",
    "    \n",
    "    def __getattr__(self, name):\n",
    "        return self.__dict__.get(name)\n",
    "    \n",
    "opt = {\n",
    "    'seed': 11,\n",
    "    'optimizer': 'adamw',\n",
    "    'learning_rate': 0.00026,\n",
    "    'adam_betas': (0.9, 0.98),\n",
    "    'adam_eps': 1.0e-09,\n",
    "    'weight_decay': 0,\n",
    "    'lr_scheduler_factor': 0.1,\n",
    "    'lr_scheduler_patience': 20,\n",
    "    'lr_scheduler_warmup_steps': 64,\n",
    "    'train_num_steps': 20000,\n",
    "    'penalty_cost': 2.0,\n",
    "    'block_size': 15552,\n",
    "    'block_stride': 972,\n",
    "    'patch_size': 18,\n",
    "    'fog_model_input_dim': 162,\n",
    "    'fog_model_dim': 320,\n",
    "    'fog_model_num_heads': 8,\n",
    "    'fog_model_num_encoder_layers': 5,\n",
    "    'fog_model_num_lstm_layers': 2,\n",
    "    'fog_model_first_dropout': 0.1,\n",
    "    'fog_model_encoder_dropout': 0.1,\n",
    "    'fog_model_mha_dropout': 0.0,\n",
    "}\n",
    "opt = DictToObj(opt)\n",
    "\n",
    "import torch\n",
    "import numpy as np\n",
    "import random\n",
    "from models.transformer_bilstm_v1 import TransformerBiLSTM\n",
    "\n",
    "random.seed(opt.seed)\n",
    "np.random.seed(opt.seed)\n",
    "torch.manual_seed(opt.seed)\n",
    "\n",
    "model = TransformerBiLSTM(opt)\n"
   ]
  },
  {
   "cell_type": "markdown",
   "metadata": {},
   "source": [
    "#### Train"
   ]
  },
  {
   "cell_type": "code",
   "execution_count": 18,
   "metadata": {},
   "outputs": [
    {
     "data": {
      "text/plain": [
       "<All keys matched successfully>"
      ]
     },
     "execution_count": 18,
     "metadata": {},
     "output_type": "execute_result"
    }
   ],
   "source": [
    "\n",
    "from data.fog_dataset_v1 import FoGDataset\n",
    "\n",
    "train_dpath = \"data/rectified_data/dataset_fog_release/train1_dataset_fog_release_blks15552_ps18.p\"\n",
    "model_path = \"runs/train/transfomer_bilstm/2024_06_12_21:12:41.10/weights/model_regular_19991.pt\"\n",
    "\n",
    "model.load_state_dict(torch.load(model_path)['model'])\n"
   ]
  },
  {
   "cell_type": "code",
   "execution_count": 19,
   "metadata": {},
   "outputs": [
    {
     "data": {
      "text/plain": [
       "(1055,\n",
       " dict_keys(['series_name', 'start_t_idx', 'end_t_idx', 'model_input', 'gt']),\n",
       " torch.Size([864, 162]),\n",
       " torch.Size([864, 3]))"
      ]
     },
     "execution_count": 19,
     "metadata": {},
     "output_type": "execute_result"
    }
   ],
   "source": [
    "import joblib\n",
    "train_ds = joblib.load(train_dpath)\n",
    "len(train_ds.keys()), train_ds[1].keys(), train_ds[1]['model_input'].shape, train_ds[1]['gt'].shape"
   ]
  },
  {
   "cell_type": "code",
   "execution_count": 20,
   "metadata": {},
   "outputs": [
    {
     "data": {
      "text/plain": [
       "(torch.Size([32, 864, 162]), torch.Size([32, 864, 3]))"
      ]
     },
     "execution_count": 20,
     "metadata": {},
     "output_type": "execute_result"
    }
   ],
   "source": [
    "model_input = []\n",
    "gt = []\n",
    "for i in range(32):\n",
    "    model_input.append(train_ds[i]['model_input'][None, :, :])\n",
    "    gt.append(train_ds[i]['gt'][None, :, :])\n",
    "\n",
    "model_input= torch.cat(model_input, dim=0)\n",
    "gt = torch.cat(gt, dim=0)\n",
    "model_input.shape, gt.shape"
   ]
  },
  {
   "cell_type": "markdown",
   "metadata": {},
   "source": [
    "#### Validation"
   ]
  },
  {
   "cell_type": "code",
   "execution_count": 39,
   "metadata": {},
   "outputs": [
    {
     "data": {
      "text/plain": [
       "(torch.Size([32, 864, 162]), torch.Size([32, 864, 3]))"
      ]
     },
     "execution_count": 39,
     "metadata": {},
     "output_type": "execute_result"
    }
   ],
   "source": [
    "from data.fog_dataset_v1 import FoGDataset\n",
    "\n",
    "val_dpath = \"data/rectified_data/dataset_fog_release/val1_dataset_fog_release_blks15552_ps18.p\"\n",
    "model_path = \"runs/train/transfomer_bilstm/2024_06_12_21:12:41.10/weights/model_regular_19991.pt\"\n",
    "\n",
    "\n",
    "model.load_state_dict(torch.load(model_path)['model'])\n",
    "import joblib\n",
    "val_ds = joblib.load(val_dpath)\n",
    "\n",
    "model_input = []\n",
    "gt = []\n",
    "for i in range(32):\n",
    "    model_input.append(val_ds[i]['model_input'][None, :, :])\n",
    "    gt.append(val_ds[i]['gt'][None, :, :])\n",
    "\n",
    "model_input= torch.cat(model_input, dim=0)\n",
    "gt = torch.cat(gt, dim=0)\n",
    "\n",
    "model_input.shape, gt.shape"
   ]
  },
  {
   "cell_type": "code",
   "execution_count": 40,
   "metadata": {},
   "outputs": [
    {
     "data": {
      "text/plain": [
       "(tensor(0.7070),\n",
       " tensor(0.5953),\n",
       " tensor(0.6464),\n",
       " tensor(0.4415),\n",
       " tensor(4.1332, grad_fn=<DivBackward0>))"
      ]
     },
     "execution_count": 40,
     "metadata": {},
     "output_type": "execute_result"
    }
   ],
   "source": [
    "pred = model(model_input)\n",
    "loss = loss_func(pred, gt)\n",
    "precision, recall, f1, ap = evaluation_metrics(pred, gt)\n",
    "precision, recall, f1, ap, loss"
   ]
  },
  {
   "cell_type": "markdown",
   "metadata": {},
   "source": [
    "#### Check test data doesn't overlap with train and valid"
   ]
  },
  {
   "cell_type": "code",
   "execution_count": 4,
   "metadata": {},
   "outputs": [
    {
     "data": {
      "text/plain": [
       "(2611,\n",
       " 86,\n",
       " 87,\n",
       " dict_keys(['series_name', 'ori_series_name', 'start_t_idx', 'end_t_idx', 'model_input', 'gt', 'inference_gt']))"
      ]
     },
     "execution_count": 4,
     "metadata": {},
     "output_type": "execute_result"
    }
   ],
   "source": [
    "import joblib, torch\n",
    "train_dpath = \"data/rectified_data/kaggle_pd_data/train_kaggle_pd_data_window2976_lab_randomaug.p\"\n",
    "train_data = joblib.load(train_dpath)\n",
    "val_dpath = \"data/rectified_data/kaggle_pd_data/val_kaggle_pd_data_window2976_lab_randomaug.p\"\n",
    "val_data = joblib.load(val_dpath)\n",
    "test_dpath = \"data/rectified_data/kaggle_pd_data/test_kaggle_pd_data_window2976_lab_randomaug.p\"\n",
    "test_data = joblib.load(test_dpath)\n",
    "len(train_data.keys()),len(val_data.keys()),len(test_data.keys()), train_data[0].keys()"
   ]
  },
  {
   "cell_type": "code",
   "execution_count": 5,
   "metadata": {},
   "outputs": [],
   "source": [
    "train_set, val_set, test_set = set(), set(), set()\n",
    "for key, value in train_data.items():\n",
    "    train_set.add(value['ori_series_name'])\n",
    "for key, value in val_data.items():\n",
    "    val_set.add(value['ori_series_name'])\n",
    "for key, value in test_data.items():\n",
    "    test_set.add(value['ori_series_name'])"
   ]
  },
  {
   "cell_type": "code",
   "execution_count": 6,
   "metadata": {},
   "outputs": [
    {
     "data": {
      "text/plain": [
       "(set(), 776, 29, 28)"
      ]
     },
     "execution_count": 6,
     "metadata": {},
     "output_type": "execute_result"
    }
   ],
   "source": [
    "overlap = train_set & val_set & test_set\n",
    "overlap, len(train_set), len(val_set), len(test_set)"
   ]
  },
  {
   "cell_type": "code",
   "execution_count": 54,
   "metadata": {},
   "outputs": [
    {
     "name": "stdout",
     "output_type": "stream",
     "text": [
      "0    0.0\n",
      "1    0.0\n",
      "Name: GroundTruth_Trial1, dtype: float64\n",
      "There are no '1's in the 733rd column from index 0 to 6972.\n"
     ]
    }
   ],
   "source": [
    "import pandas as pd\n",
    "\n",
    "# Read the CSV file\n",
    "df = pd.read_csv('data/rectified_data/kaggle_pd_data/tdcsfog/gt_kaggle_pd_data.csv')\n",
    "\n",
    "# Extract the 733rd column (index 732)\n",
    "print(df.iloc[:2, 0])\n",
    "column_733 = df.iloc[:6973, 732]  # 6973 because Python's slicing is exclusive on the upper bound\n",
    "\n",
    "# Check if there is any '1' in the extracted column\n",
    "if (column_733 == 1).any():\n",
    "    print(\"There is at least one '1' in the 733rd column from index 0 to 6972.\")\n",
    "else:\n",
    "    print(\"There are no '1's in the 733rd column from index 0 to 6972.\")"
   ]
  },
  {
   "cell_type": "code",
   "execution_count": 1,
   "metadata": {},
   "outputs": [
    {
     "data": {
      "text/plain": [
       "(tensor([[4, 2, 6],\n",
       "         [8, 3, 1],\n",
       "         [3, 7, 4],\n",
       "         [8, 1, 5]], device='cuda:3'),\n",
       " tensor([[4, 8, 3, 8],\n",
       "         [2, 3, 7, 1],\n",
       "         [6, 1, 4, 5]], device='cuda:3'))"
      ]
     },
     "execution_count": 1,
     "metadata": {},
     "output_type": "execute_result"
    }
   ],
   "source": [
    "import torch\n",
    "\n",
    "a= torch.randint(0,9, size=(4,3)).to(\"cuda:3\")\n",
    "a, a.permute(1,0)"
   ]
  },
  {
   "cell_type": "code",
   "execution_count": 1,
   "metadata": {},
   "outputs": [
    {
     "data": {
      "text/plain": [
       "970"
      ]
     },
     "execution_count": 1,
     "metadata": {},
     "output_type": "execute_result"
    }
   ],
   "source": [
    "import joblib, torch\n",
    "\n",
    "all_dpath = \"data/rectified_data/kaggle_pd_data/all_kaggle_pd_data.p\"\n",
    "all_data = joblib.load(all_dpath)\n",
    "len(all_data.keys())"
   ]
  },
  {
   "cell_type": "code",
   "execution_count": 2,
   "metadata": {},
   "outputs": [
    {
     "data": {
      "image/png": "[encoded data removed]",
      "text/plain": [
       "<Figure size 1000x800 with 2 Axes>"
      ]
     },
     "metadata": {},
     "output_type": "display_data"
    },
    {
     "name": "stdout",
     "output_type": "stream",
     "text": [
      "lab: 833 min: 2359 max: 97077\n",
      "home:  137 min: 26342 max: 441496\n"
     ]
    }
   ],
   "source": [
    "import matplotlib.pyplot as plt\n",
    "import numpy as np\n",
    "\n",
    "# Step 1: Extract the lengths of the values in the dictionary\n",
    "\n",
    "home = []\n",
    "lab = []\n",
    "for key, value in all_data.items():\n",
    "    if value['ori_filename'].split('_')[-1] == 'tdcsfog':\n",
    "        lab.append(int(value['gt'].shape[0]))\n",
    "    else:\n",
    "        home.append(int(value['gt'].shape[0]))\n",
    "# Step 2: Define bin edges (adjust the range and step as needed)\n",
    "bin_edges = np.arange(0, max(max(lab, default=0), max(home, default=0)) + 10, 10)\n",
    "\n",
    "fig, (ax1, ax2) = plt.subplots(2, 1, figsize=(10, 8))\n",
    "\n",
    "# Histogram for lab data\n",
    "ax1.hist(lab, bins=bin_edges, edgecolor='blue')\n",
    "ax1.set_xlabel('Length of Values')\n",
    "ax1.set_ylabel('Number of Keys')\n",
    "ax1.set_title('Distribution of Value Lengths (Lab)')\n",
    "\n",
    "# Histogram for home data\n",
    "ax2.hist(home, bins=bin_edges, edgecolor='orange')\n",
    "ax2.set_xlabel('Length of Values')\n",
    "ax2.set_ylabel('Number of Keys')\n",
    "ax2.set_title('Distribution of Value Lengths (Home)')\n",
    "\n",
    "# Adjust layout\n",
    "plt.tight_layout()\n",
    "\n",
    "# Show plot\n",
    "plt.show()\n",
    "print(\"lab:\", len(lab), \"min:\", min(lab), \"max:\", max(lab))\n",
    "print(\"home: \",len(home), \"min:\", min(home), \"max:\", max(home))\n",
    "\n"
   ]
  },
  {
   "cell_type": "code",
   "execution_count": 3,
   "metadata": {},
   "outputs": [
    {
     "name": "stdout",
     "output_type": "stream",
     "text": [
      "lab median:  6290\n",
      "home median:  161720\n"
     ]
    }
   ],
   "source": [
    "import statistics\n",
    "print(\"lab median: \", statistics.median(lab))\n",
    "print(\"home median: \", statistics.median(home))"
   ]
  },
  {
   "cell_type": "code",
   "execution_count": 4,
   "metadata": {},
   "outputs": [
    {
     "name": "stdout",
     "output_type": "stream",
     "text": [
      "train\n",
      "one:  2093693\n",
      "zero:  4541566\n",
      "two:  1135077\n",
      "zero to one:  2.169165202348195\n",
      "\n",
      "val:\n",
      "one:  20544\n",
      "zero:  184261\n",
      "two:  51131\n",
      "zero to one:  8.969090732087228\n",
      "\n",
      "test\n",
      "one:  77173\n",
      "zero:  145435\n",
      "two:  36304\n",
      "zero to one:  1.884532155028313\n",
      "\n",
      "all zeros:  4871262\n",
      "all ones:  2191410\n",
      "all twos:  1222512\n"
     ]
    }
   ],
   "source": [
    "# Function to calculate the ratio\n",
    "def calculate_class_ratio(train_data):\n",
    "    ones = 0\n",
    "    zeros = 0\n",
    "    twos = 0\n",
    "    for example_id, example_data in train_data.items():\n",
    "        gt = example_data['gt']\n",
    "        num_zeros = torch.sum(gt[:,0] == 1).item()\n",
    "        num_ones = torch.sum(gt[:,1] == 1).item()\n",
    "        num_twos = torch.sum(gt[:,2] == 1).item()\n",
    "        ones += num_ones\n",
    "        zeros += num_zeros\n",
    "        twos += num_twos\n",
    "    print(\"one: \", ones)\n",
    "    print(\"zero: \", zeros)\n",
    "    print(\"two: \", twos)\n",
    "    print(\"zero to one: \", zeros / ones)\n",
    "    print()\n",
    "    return zeros, ones, twos\n",
    "\n",
    "zeros, ones, twos = 0, 0, 0\n",
    "# Calculate the ratio for the training data\n",
    "print('train')\n",
    "a,b,c=calculate_class_ratio(train_data)\n",
    "zeros += a\n",
    "ones += b\n",
    "twos += c\n",
    "\n",
    "print('val:')\n",
    "a,b,c=calculate_class_ratio(val_data)\n",
    "zeros += a\n",
    "ones += b\n",
    "twos += c\n",
    "\n",
    "print('test')\n",
    "a,b,c=calculate_class_ratio(test_data)\n",
    "zeros += a\n",
    "ones += b\n",
    "twos += c\n",
    "\n",
    "print(\"all zeros: \", zeros)\n",
    "print(\"all ones: \", ones)\n",
    "print(\"all twos: \", twos)\n",
    "\n"
   ]
  },
  {
   "cell_type": "code",
   "execution_count": 55,
   "metadata": {},
   "outputs": [
    {
     "name": "stdout",
     "output_type": "stream",
     "text": [
      "Ratio of zeros to ones in the new column across all files: 2.22\n",
      "Zero count: 4871262, One count: 2191410\n"
     ]
    }
   ],
   "source": [
    "import pandas as pd\n",
    "import os\n",
    "\n",
    "# Path to the folder containing CSV files\n",
    "folder_path = 'data/kaggle_pd_data/train/tdcsfog'\n",
    "\n",
    "# Initialize counters for zero and one\n",
    "zero_count = 0\n",
    "one_count = 0\n",
    "\n",
    "# Iterate over each file in the folder\n",
    "for file_name in os.listdir(folder_path):\n",
    "    if file_name.endswith('.csv'):\n",
    "        # Read the CSV file\n",
    "        file_path = os.path.join(folder_path, file_name)\n",
    "        df = pd.read_csv(file_path)\n",
    "        \n",
    "        # Check if the specific columns exist\n",
    "        if all(col in df.columns for col in [\"StartHesitation\", \"Turn\", \"Walking\"]):\n",
    "            # Create the new column\n",
    "            df['NewColumn'] = df[[\"StartHesitation\", \"Turn\", \"Walking\"]].any(axis=1).astype(int)\n",
    "            \n",
    "            # Update counters\n",
    "            zero_count += (df['NewColumn'] == 0).sum()\n",
    "            one_count += (df['NewColumn'] == 1).sum()\n",
    "\n",
    "# Calculate the ratio of zero to one\n",
    "if one_count == 0:\n",
    "    ratio = float('inf')  # To handle division by zero\n",
    "else:\n",
    "    ratio = zero_count / one_count\n",
    "\n",
    "print(f\"Ratio of zeros to ones in the new column across all files: {ratio:.2f}\")\n",
    "print(f\"Zero count: {zero_count}, One count: {one_count}\")\n"
   ]
  }
 ],
 "metadata": {
  "kernelspec": {
   "display_name": "fog",
   "language": "python",
   "name": "python3"
  },
  "language_info": {
   "codemirror_mode": {
    "name": "ipython",
    "version": 3
   },
   "file_extension": ".py",
   "mimetype": "text/x-python",
   "name": "python",
   "nbconvert_exporter": "python",
   "pygments_lexer": "ipython3",
   "version": "3.10.14"
  }
 },
 "nbformat": 4,
 "nbformat_minor": 2
}
