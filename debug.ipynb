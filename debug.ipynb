{
 "cells": [
  {
   "cell_type": "code",
   "execution_count": 1,
   "metadata": {},
   "outputs": [],
   "source": [
    "%load_ext autoreload\n",
    "%autoreload 2"
   ]
  },
  {
   "cell_type": "code",
   "execution_count": 2,
   "metadata": {},
   "outputs": [],
   "source": [
    "import os, torch\n",
    "\n",
    "os.environ[\"CUDA_VISIBLE_DEVICES\"] = \"7\"\n",
    "# device0 = \"cuda:0\" if torch.cuda.is_available() else \"cpu\"\n",
    "device7 = \"cuda:0\" if torch.cuda.is_available() else \"cpu\"\n",
    "OCCUPY_CUDA_7 = torch.randn(1, 1, device=device7)\n"
   ]
  },
  {
   "cell_type": "code",
   "execution_count": 5,
   "metadata": {},
   "outputs": [
    {
     "name": "stdout",
     "output_type": "stream",
     "text": [
      "['Time', 'GeneralEvent', 'ClinicalEvent', 'L Foot Contact', 'R Foot Contact', 'L Foot Pressure', 'R Foot Pressure', 'Walkway_X', 'Walkway_Y', 'WalkwayPressureLevel', 'WalkwayFoot', 'LowerBack_Acc_X', 'LowerBack_Acc_Y', 'LowerBack_Acc_Z', 'LowerBack_FreeAcc_E', 'LowerBack_FreeAcc_N', 'LowerBack_FreeAcc_U', 'LowerBack_Gyr_X', 'LowerBack_Gyr_Y', 'LowerBack_Gyr_Z', 'LowerBack_Mag_X', 'LowerBack_Mag_Y', 'LowerBack_Mag_Z', 'LowerBack_VelInc_X', 'LowerBack_VelInc_Y', 'LowerBack_VelInc_Z', 'LowerBack_OriInc_q0', 'LowerBack_OriInc_q1', 'LowerBack_OriInc_q2', 'LowerBack_OriInc_q3', 'LowerBack_Roll', 'LowerBack_Pitch', 'LowerBack_Yaw', 'R_Wrist_Acc_X', 'R_Wrist_Acc_Y', 'R_Wrist_Acc_Z', 'R_Wrist_FreeAcc_E', 'R_Wrist_FreeAcc_N', 'R_Wrist_FreeAcc_U', 'R_Wrist_Gyr_X', 'R_Wrist_Gyr_Y', 'R_Wrist_Gyr_Z', 'R_Wrist_Mag_X', 'R_Wrist_Mag_Y', 'R_Wrist_Mag_Z', 'R_Wrist_VelInc_X', 'R_Wrist_VelInc_Y', 'R_Wrist_VelInc_Z', 'R_Wrist_OriInc_q0', 'R_Wrist_OriInc_q1', 'R_Wrist_OriInc_q2', 'R_Wrist_OriInc_q3', 'R_Wrist_Roll', 'R_Wrist_Pitch', 'R_Wrist_Yaw', 'L_Wrist_Acc_X', 'L_Wrist_Acc_Y', 'L_Wrist_Acc_Z', 'L_Wrist_FreeAcc_E', 'L_Wrist_FreeAcc_N', 'L_Wrist_FreeAcc_U', 'L_Wrist_Gyr_X', 'L_Wrist_Gyr_Y', 'L_Wrist_Gyr_Z', 'L_Wrist_Mag_X', 'L_Wrist_Mag_Y', 'L_Wrist_Mag_Z', 'L_Wrist_VelInc_X', 'L_Wrist_VelInc_Y', 'L_Wrist_VelInc_Z', 'L_Wrist_OriInc_q0', 'L_Wrist_OriInc_q1', 'L_Wrist_OriInc_q2', 'L_Wrist_OriInc_q3', 'L_Wrist_Roll', 'L_Wrist_Pitch', 'L_Wrist_Yaw', 'R_MidLatThigh_Acc_X', 'R_MidLatThigh_Acc_Y', 'R_MidLatThigh_Acc_Z', 'R_MidLatThigh_FreeAcc_E', 'R_MidLatThigh_FreeAcc_N', 'R_MidLatThigh_FreeAcc_U', 'R_MidLatThigh_Gyr_X', 'R_MidLatThigh_Gyr_Y', 'R_MidLatThigh_Gyr_Z', 'R_MidLatThigh_Mag_X', 'R_MidLatThigh_Mag_Y', 'R_MidLatThigh_Mag_Z', 'R_MidLatThigh_VelInc_X', 'R_MidLatThigh_VelInc_Y', 'R_MidLatThigh_VelInc_Z', 'R_MidLatThigh_OriInc_q0', 'R_MidLatThigh_OriInc_q1', 'R_MidLatThigh_OriInc_q2', 'R_MidLatThigh_OriInc_q3', 'R_MidLatThigh_Roll', 'R_MidLatThigh_Pitch', 'R_MidLatThigh_Yaw', 'L_MidLatThigh_Acc_X', 'L_MidLatThigh_Acc_Y', 'L_MidLatThigh_Acc_Z', 'L_MidLatThigh_FreeAcc_E', 'L_MidLatThigh_FreeAcc_N', 'L_MidLatThigh_FreeAcc_U', 'L_MidLatThigh_Gyr_X', 'L_MidLatThigh_Gyr_Y', 'L_MidLatThigh_Gyr_Z', 'L_MidLatThigh_Mag_X', 'L_MidLatThigh_Mag_Y', 'L_MidLatThigh_Mag_Z', 'L_MidLatThigh_VelInc_X', 'L_MidLatThigh_VelInc_Y', 'L_MidLatThigh_VelInc_Z', 'L_MidLatThigh_OriInc_q0', 'L_MidLatThigh_OriInc_q1', 'L_MidLatThigh_OriInc_q2', 'L_MidLatThigh_OriInc_q3', 'L_MidLatThigh_Roll', 'L_MidLatThigh_Pitch', 'L_MidLatThigh_Yaw', 'R_LatShank_Acc_X', 'R_LatShank_Acc_Y', 'R_LatShank_Acc_Z', 'R_LatShank_FreeAcc_E', 'R_LatShank_FreeAcc_N', 'R_LatShank_FreeAcc_U', 'R_LatShank_Gyr_X', 'R_LatShank_Gyr_Y', 'R_LatShank_Gyr_Z', 'R_LatShank_Mag_X', 'R_LatShank_Mag_Y', 'R_LatShank_Mag_Z', 'R_LatShank_VelInc_X', 'R_LatShank_VelInc_Y', 'R_LatShank_VelInc_Z', 'R_LatShank_OriInc_q0', 'R_LatShank_OriInc_q1', 'R_LatShank_OriInc_q2', 'R_LatShank_OriInc_q3', 'R_LatShank_Roll', 'R_LatShank_Pitch', 'R_LatShank_Yaw', 'L_LatShank_Acc_X', 'L_LatShank_Acc_Y', 'L_LatShank_Acc_Z', 'L_LatShank_FreeAcc_E', 'L_LatShank_FreeAcc_N', 'L_LatShank_FreeAcc_U', 'L_LatShank_Gyr_X', 'L_LatShank_Gyr_Y', 'L_LatShank_Gyr_Z', 'L_LatShank_Mag_X', 'L_LatShank_Mag_Y', 'L_LatShank_Mag_Z', 'L_LatShank_VelInc_X', 'L_LatShank_VelInc_Y', 'L_LatShank_VelInc_Z', 'L_LatShank_OriInc_q0', 'L_LatShank_OriInc_q1', 'L_LatShank_OriInc_q2', 'L_LatShank_OriInc_q3', 'L_LatShank_Roll', 'L_LatShank_Pitch', 'L_LatShank_Yaw', 'R_DorsalFoot_Acc_X', 'R_DorsalFoot_Acc_Y', 'R_DorsalFoot_Acc_Z', 'R_DorsalFoot_FreeAcc_E', 'R_DorsalFoot_FreeAcc_N', 'R_DorsalFoot_FreeAcc_U', 'R_DorsalFoot_Gyr_X', 'R_DorsalFoot_Gyr_Y', 'R_DorsalFoot_Gyr_Z', 'R_DorsalFoot_Mag_X', 'R_DorsalFoot_Mag_Y', 'R_DorsalFoot_Mag_Z', 'R_DorsalFoot_VelInc_X', 'R_DorsalFoot_VelInc_Y', 'R_DorsalFoot_VelInc_Z', 'R_DorsalFoot_OriInc_q0', 'R_DorsalFoot_OriInc_q1', 'R_DorsalFoot_OriInc_q2', 'R_DorsalFoot_OriInc_q3', 'R_DorsalFoot_Roll', 'R_DorsalFoot_Pitch', 'R_DorsalFoot_Yaw', 'L_DorsalFoot_Acc_X', 'L_DorsalFoot_Acc_Y', 'L_DorsalFoot_Acc_Z', 'L_DorsalFoot_FreeAcc_E', 'L_DorsalFoot_FreeAcc_N', 'L_DorsalFoot_FreeAcc_U', 'L_DorsalFoot_Gyr_X', 'L_DorsalFoot_Gyr_Y', 'L_DorsalFoot_Gyr_Z', 'L_DorsalFoot_Mag_X', 'L_DorsalFoot_Mag_Y', 'L_DorsalFoot_Mag_Z', 'L_DorsalFoot_VelInc_X', 'L_DorsalFoot_VelInc_Y', 'L_DorsalFoot_VelInc_Z', 'L_DorsalFoot_OriInc_q0', 'L_DorsalFoot_OriInc_q1', 'L_DorsalFoot_OriInc_q2', 'L_DorsalFoot_OriInc_q3', 'L_DorsalFoot_Roll', 'L_DorsalFoot_Pitch', 'L_DorsalFoot_Yaw', 'R_Ankle_Acc_X', 'R_Ankle_Acc_Y', 'R_Ankle_Acc_Z', 'R_Ankle_FreeAcc_E', 'R_Ankle_FreeAcc_N', 'R_Ankle_FreeAcc_U', 'R_Ankle_Gyr_X', 'R_Ankle_Gyr_Y', 'R_Ankle_Gyr_Z', 'R_Ankle_Mag_X', 'R_Ankle_Mag_Y', 'R_Ankle_Mag_Z', 'R_Ankle_VelInc_X', 'R_Ankle_VelInc_Y', 'R_Ankle_VelInc_Z', 'R_Ankle_OriInc_q0', 'R_Ankle_OriInc_q1', 'R_Ankle_OriInc_q2', 'R_Ankle_OriInc_q3', 'R_Ankle_Roll', 'R_Ankle_Pitch', 'R_Ankle_Yaw', 'L_Ankle_Acc_X', 'L_Ankle_Acc_Y', 'L_Ankle_Acc_Z', 'L_Ankle_FreeAcc_E', 'L_Ankle_FreeAcc_N', 'L_Ankle_FreeAcc_U', 'L_Ankle_Gyr_X', 'L_Ankle_Gyr_Y', 'L_Ankle_Gyr_Z', 'L_Ankle_Mag_X', 'L_Ankle_Mag_Y', 'L_Ankle_Mag_Z', 'L_Ankle_VelInc_X', 'L_Ankle_VelInc_Y', 'L_Ankle_VelInc_Z', 'L_Ankle_OriInc_q0', 'L_Ankle_OriInc_q1', 'L_Ankle_OriInc_q2', 'L_Ankle_OriInc_q3', 'L_Ankle_Roll', 'L_Ankle_Pitch', 'L_Ankle_Yaw', 'Xiphoid_Acc_X', 'Xiphoid_Acc_Y', 'Xiphoid_Acc_Z', 'Xiphoid_FreeAcc_E', 'Xiphoid_FreeAcc_N', 'Xiphoid_FreeAcc_U', 'Xiphoid_Gyr_X', 'Xiphoid_Gyr_Y', 'Xiphoid_Gyr_Z', 'Xiphoid_Mag_X', 'Xiphoid_Mag_Y', 'Xiphoid_Mag_Z', 'Xiphoid_VelInc_X', 'Xiphoid_VelInc_Y', 'Xiphoid_VelInc_Z', 'Xiphoid_OriInc_q0', 'Xiphoid_OriInc_q1', 'Xiphoid_OriInc_q2', 'Xiphoid_OriInc_q3', 'Xiphoid_Roll', 'Xiphoid_Pitch', 'Xiphoid_Yaw', 'Forehead_Acc_X', 'Forehead_Acc_Y', 'Forehead_Acc_Z', 'Forehead_FreeAcc_E', 'Forehead_FreeAcc_N', 'Forehead_FreeAcc_U', 'Forehead_Gyr_X', 'Forehead_Gyr_Y', 'Forehead_Gyr_Z', 'Forehead_Mag_X', 'Forehead_Mag_Y', 'Forehead_Mag_Z', 'Forehead_VelInc_X', 'Forehead_VelInc_Y', 'Forehead_VelInc_Z', 'Forehead_OriInc_q0', 'Forehead_OriInc_q1', 'Forehead_OriInc_q2', 'Forehead_OriInc_q3', 'Forehead_Roll', 'Forehead_Pitch', 'Forehead_Yaw', 'LPressure1', 'LPressure2', 'LPressure3', 'LPressure4', 'LPressure5', 'LPressure6', 'LPressure7', 'LPressure8', 'LPressure9', 'LPressure10', 'LPressure11', 'LPressure12', 'LPressure13', 'LPressure14', 'LPressure15', 'LPressure16', 'Linsole:Acc_X', 'Linsole:Acc_Y', 'Linsole:Acc_Z', 'Linsole:Gyr_X', 'Linsole:Gyr_Y', 'Linsole:Gyr_Z', 'LTotalForce', 'LCoP_X', 'LCoP_Y', 'RPressure1', 'RPressure2', 'RPressure3', 'RPressure4', 'RPressure5', 'RPressure6', 'RPressure7', 'RPressure8', 'RPressure9', 'RPressure10', 'RPressure11', 'RPressure12', 'RPressure13', 'RPressure14', 'RPressure15', 'RPressure16', 'Rinsole:Acc_X', 'Rinsole:Acc_Y', 'Rinsole:Acc_Z', 'Rinsole:Gyr_X', 'Rinsole:Gyr_Y', 'Rinsole:Gyr_Z', 'RTotalForce', 'RCoP_X', 'RCoP_Y']\n",
      "['0 sec', 'Standing', 'unlabeled', '0', '0', '0', '0', '', '', '', '', '9.507711', '0.776327', '2.311817', '0.064093', '-0.003629', '0.002588', '0.024763', '-0.006137', '0.007981', '-0.307861', '-0.207031', '-0.577393', '0.095076', '0.007764', '0.023122', '1', '0.000124', '-3.1e-05', '4e-05', '18.85588', '-75.248757', '7.896185', '7.540472', '-6.22653', '-1.025152', '0.025394', '0.132122', '0.018957', '0.016273', '-0.013222', '-0.001792', '-0.196533', '0.028809', '0.602783', '0.075405', '-0.062265', '-0.010252', '1', '8.1e-05', '-6.6e-05', '-9e-06', '-100.474532', '-49.778978', '11.611477', '6.948482', '6.592564', '-2.007346', '-0.074251', '-0.028408', '-0.026655', '0.061071', '0.021176', '-0.011099', '-0.144043', '-0.004395', '0.626953', '0.069486', '0.065928', '-0.020061', '1', '0.000305', '0.000106', '-5.5e-05', '107.59071', '-45.131997', '-82.344035', '9.656365', '1.595453', '-0.686904', '0.091219', '-0.059355', '-0.001936', '0.028465', '-0.007651', '-0.002244', '-0.193604', '-0.782471', '0.060303', '0.096564', '0.015954', '-0.006863', '1', '0.000142', '-3.8e-05', '-1.1e-05', '113.997116', '-79.18278', '-22.023301', '9.757522', '0.834896', '-0.023661', '-0.025359', '-0.035821', '-0.019581', '0.012082', '0.006454', '-0.025327', '-0.351074', '0.62915', '0.151123', '0.097576', '0.008337', '-0.000239', '1', '6e-05', '3.2e-05', '-0.000127', '89.179625', '-84.953744', '-178.836204', '9.628705', '1.840344', '0.42421', '-0.079669', '-0.052254', '-0.000974', '0.026474', '-0.010853', '0.020908', '-0.210938', '-0.956787', '0.056396', '0.096285', '0.018413', '0.00425', '1', '0.000132', '-5.4e-05', '0.000105', '79.672064', '-78.693485', '-80.727648', '9.627484', '-1.153264', '1.22416', '-0.028038', '-0.017946', '-0.039462', '0.010434', '0.005232', '-0.018021', '-0.318604', '0.900146', '0.148682', '0.096274', '-0.011542', '0.012238', '1', '5.2e-05', '2.6e-05', '-9e-05', '-42.145862', '-80.066897', '-64.949078', '5.636641', '-0.315958', '8.067635', '-0.043064', '-0.084646', '0.033594', '0.005389', '0.006954', '0.008038', '-1.17749', '-0.659424', '-0.314453', '0.056369', '-0.003159', '0.080674', '1', '2.7e-05', '3.5e-05', '4e-05', '-2.907412', '-34.83884', '161.390232', '6.000921', '0.873217', '7.737417', '0.033725', '-0.034528', '0.017819', '-0.002511', '0.007713', '-0.004263', '-1.281494', '0.110596', '0.13916', '0.060012', '0.008732', '0.077372', '1', '-1.3e-05', '3.9e-05', '-2.1e-05', '6.236819', '-37.388543', '-80.083692', '9.741593', '1.240348', '-0.336869', '-0.008071', '0.018104', '0.013308', '0.010015', '-0.015486', '0.004636', '-0.632813', '-1.139404', '-0.446289', '0.097416', '0.012406', '-0.003361', '1', '5e-05', '-7.7e-05', '2.3e-05', '104.36216', '-82.497669', '18.716164', '9.776784', '-0.529142', '-0.494585', '-0.055976', '0.046991', '-0.009384', '-0.002946', '0.01063', '-0.019836', '-0.4729', '1.135254', '0.013672', '0.097767', '-0.005301', '-0.004951', '1', '-1.5e-05', '5.3e-05', '-9.9e-05', '-129.295578', '-86.099237', '-80.770379', '9.895042', '-0.709164', '-0.158969', '0.035435', '-0.075048', '0.108662', '0.029444', '-0.008846', '0.004141', '-0.295898', '-0.010986', '0.467285', '0.098951', '-0.007089', '-0.001586', '1', '0.000147', '-4.4e-05', '2.1e-05', '-99.253489', '-85.397755', '-33.441631', '-3.108866', '-9.282574', '1.033171', '-0.033781', '0.049075', '0.030845', '-0.014697', '-0.012196', '0.011027', '-0.053711', '0.418457', '0.241455', '-0.031084', '-0.092827', '0.010337', '1', '-7.3e-05', '-6.1e-05', '5.5e-05', '-83.333853', '18.244398', '-116.176913', 'NaN', 'NaN', 'NaN', 'NaN', 'NaN', 'NaN', 'NaN', 'NaN', 'NaN', 'NaN', 'NaN', 'NaN', 'NaN', 'NaN', 'NaN', 'NaN', 'NaN', 'NaN', 'NaN', 'NaN', 'NaN', 'NaN', 'NaN', 'NaN', 'NaN', 'NaN', 'NaN', 'NaN', 'NaN', 'NaN', 'NaN', 'NaN', 'NaN', 'NaN', 'NaN', 'NaN', 'NaN', 'NaN', 'NaN', 'NaN', 'NaN', 'NaN', 'NaN', 'NaN', 'NaN', 'NaN', 'NaN', 'NaN', 'NaN', 'NaN']\n"
     ]
    }
   ],
   "source": [
    "\n",
    "import csv\n",
    "sample_path = 'reference_data/sample_pfda/ValidationDataset-sampledata.csv'\n",
    "rectified_path = 'data/rectified_dataset_fog_release.csv'\n",
    "with open(sample_path, mode ='r')as file:\n",
    "    csvFile = csv.reader(file)\n",
    "    count = 0\n",
    "    for lines in csvFile:\n",
    "        if count == 2:\n",
    "                break\n",
    "        print(lines)\n",
    "        count+=1\n",
    "        "
   ]
  },
  {
   "cell_type": "code",
   "execution_count": 10,
   "metadata": {},
   "outputs": [
    {
     "name": "stdout",
     "output_type": "stream",
     "text": [
      "['rec_1.csv', 'rec_2.csv', 'rec_11.csv']\n"
     ]
    },
    {
     "data": {
      "text/plain": [
       "['rec_1.csv', 'rec_2.csv', 'rec_11.csv']"
      ]
     },
     "execution_count": 10,
     "metadata": {},
     "output_type": "execute_result"
    }
   ],
   "source": [
    "data_folder = os.listdir('data')\n",
    "rectified_csv_files = [file for file in data_folder if file.startswith('rec') \\\n",
    "                                                        and file.endswith('.csv')]\n",
    "print(rectified_csv_files)\n",
    "rectified_csv_files = sorted(rectified_csv_files, key=lambda x: (int(x[:-4].split('_')[1])))\n",
    "rectified_csv_files"
   ]
  }
 ],
 "metadata": {
  "kernelspec": {
   "display_name": "fog",
   "language": "python",
   "name": "python3"
  },
  "language_info": {
   "codemirror_mode": {
    "name": "ipython",
    "version": 3
   },
   "file_extension": ".py",
   "mimetype": "text/x-python",
   "name": "python",
   "nbconvert_exporter": "python",
   "pygments_lexer": "ipython3",
   "version": "3.10.14"
  }
 },
 "nbformat": 4,
 "nbformat_minor": 2
}
